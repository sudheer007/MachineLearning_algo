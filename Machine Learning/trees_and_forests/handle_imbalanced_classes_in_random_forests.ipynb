{
 "cells": [
  {
   "cell_type": "raw",
   "metadata": {},
   "source": [
    "---\n",
    "title: \"Handle Imbalanced Classes In Random Forest\"\n",
    "author: \"Sudheer sandu\"\n",
    "date: 2018-04-20T11:53:49-07:00\n",
    "description: \"Handle imbalanced classes in random forests in scikit-learn.\"\n",
    "type: technical_note\n",
    "draft: false\n",
    "---"
   ]
  },
  {
   "cell_type": "markdown",
   "metadata": {},
   "source": [
    "## Preliminaries"
   ]
  },
  {
   "cell_type": "code",
   "execution_count": 5,
   "metadata": {
    "collapsed": true
   },
   "outputs": [],
   "source": [
    "# Load libraries\n",
    "from sklearn.ensemble import RandomForestClassifier\n",
    "import numpy as np\n",
    "from sklearn import datasets"
   ]
  },
  {
   "cell_type": "markdown",
   "metadata": {},
   "source": [
    "## Load Iris Flower Dataset"
   ]
  },
  {
   "cell_type": "code",
   "execution_count": 6,
   "metadata": {
    "collapsed": true
   },
   "outputs": [],
   "source": [
    "# Load data\n",
    "iris = datasets.load_iris()\n",
    "X = iris.data\n",
    "y = iris.target"
   ]
  },
  {
   "cell_type": "markdown",
   "metadata": {},
   "source": [
    "## Adjust Iris Dataset To Make Classes Imbalanced"
   ]
  },
  {
   "cell_type": "code",
   "execution_count": 7,
   "metadata": {
    "collapsed": true
   },
   "outputs": [],
   "source": [
    "# Make class highly imbalanced by removing first 40 observations\n",
    "X = X[40:,:]\n",
    "y = y[40:]\n",
    "\n",
    "# Create target vector indicating if class 0, otherwise 1\n",
    "y = np.where((y == 0), 0, 1)"
   ]
  },
  {
   "cell_type": "markdown",
   "metadata": {},
   "source": [
    "## Train Random Forest While Balancing Classes\n",
    "\n",
    "When using `RandomForestClassifier` a useful setting is `class_weight=balanced` wherein classes are automatically weighted inversely proportional to how frequently they appear in the data. Specifically:\n",
    "\n",
    "$$w\\_j = \\frac{n}{kn\\_{j}}$$\n",
    "\n",
    "where $w\\_j$ is the weight to class $j$, $n$ is the number of observations, $n\\_j$ is the number of observations in class $j$, and $k$ is the total number of classes."
   ]
  },
  {
   "cell_type": "code",
   "execution_count": 8,
   "metadata": {
    "collapsed": true
   },
   "outputs": [],
   "source": [
    "# Create decision tree classifer object\n",
    "clf = RandomForestClassifier(random_state=0, n_jobs=-1, class_weight=\"balanced\")\n",
    "\n",
    "# Train model\n",
    "model = clf.fit(X, y)"
   ]
  }
 ],
 "metadata": {
  "anaconda-cloud": {},
  "kernelspec": {
   "display_name": "Python 3",
   "language": "python",
   "name": "python3"
  },
  "language_info": {
   "codemirror_mode": {
    "name": "ipython",
    "version": 3
   },
   "file_extension": ".py",
   "mimetype": "text/x-python",
   "name": "python",
   "nbconvert_exporter": "python",
   "pygments_lexer": "ipython3",
   "version": "3.6.3"
  }
 },
 "nbformat": 4,
 "nbformat_minor": 1
}
